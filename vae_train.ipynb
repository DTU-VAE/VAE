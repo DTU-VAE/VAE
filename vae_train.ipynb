{
  "nbformat": 4,
  "nbformat_minor": 0,
  "metadata": {
    "colab": {
      "name": "vae_train.ipynb",
      "provenance": [],
      "collapsed_sections": []
    },
    "kernelspec": {
      "name": "python3",
      "display_name": "Python 3"
    },
    "accelerator": "GPU"
  },
  "cells": [
    {
      "cell_type": "code",
      "metadata": {
        "id": "Y2cnu9QB-uat",
        "colab_type": "code",
        "cellView": "form",
        "colab": {}
      },
      "source": [
        "#@title Download repository and dataset\n",
        "# download repo and data\n",
        "!git clone https://github.com/DTU-VAE/VAE.git\n",
        "%cd /content/VAE\n",
        "# !git checkout ****\n",
        "import os\n",
        "os.environ['PYTHONPATH'] += \":/content/VAE\"\n",
        "\n",
        "%cd /content\n",
        "import requests\n",
        "url = \"https://storage.googleapis.com/magentadata/datasets/maestro/v2.0.0/maestro-v2.0.0-midi.zip\"\n",
        "zip_file = requests.get(url)\n",
        "with open(\"midi.zip\", \"wb\") as zfile:\n",
        "  zfile.write(zip_file.content)\n",
        "\n",
        "import zipfile\n",
        "with zipfile.ZipFile(\"midi.zip\", 'r') as zip_ref:\n",
        "    zip_ref.extractall(\"/content/VAE/data/\")\n",
        "\n",
        "%cd /content/VAE/midi\n",
        "\n",
        "print('\\n\\nScript usage\\n------------------------------------')\n",
        "!python3 midi.py -h"
      ],
      "execution_count": 0,
      "outputs": []
    },
    {
      "cell_type": "code",
      "metadata": {
        "id": "4HhBAhalU9wq",
        "colab_type": "code",
        "colab": {}
      },
      "source": [
        "# start training without bootstrapping with default settings\n",
        "!python3 midi.py --transpose-key"
      ],
      "execution_count": 0,
      "outputs": []
    },
    {
      "cell_type": "code",
      "metadata": {
        "id": "fDfkqV4B_cUo",
        "colab_type": "code",
        "colab": {
          "base_uri": "https://localhost:8080/",
          "height": 97
        },
        "outputId": "344f2ab0-311f-4f38-902d-b2320223932a"
      },
      "source": [
        "# start training with bootstrapping\n",
        "!python3 midi.py --bootstrap ../model_states/model_epoch_1.tar --epochs 5 --log-interval 1000"
      ],
      "execution_count": 0,
      "outputs": [
        {
          "output_type": "stream",
          "text": [
            "Bootstrapping model from ../model_states/model_epoch_1.tar\n",
            "Continuing training from epoch: 2\n",
            "\n",
            " 40% 512/1282 [00:19<03:21,  3.82it/s]"
          ],
          "name": "stdout"
        }
      ]
    },
    {
      "cell_type": "code",
      "metadata": {
        "id": "CFABZo0g0xki",
        "colab_type": "code",
        "colab": {}
      },
      "source": [
        "# generate samples with the model\n",
        "!python3 midi.py --bootstrap ../model_states/model_epoch_1.tar --generative\n",
        "\n",
        "from IPython.display import Image, display\n",
        "from pathlib import Path\n",
        "\n",
        "path = '/content/VAE/results/sample/sample_epoch_generative.png'\n",
        "my_file = Path(path)\n",
        "if my_file.is_file():\n",
        "    display(Image(path))"
      ],
      "execution_count": 0,
      "outputs": []
    },
    {
      "cell_type": "code",
      "metadata": {
        "id": "i8ZqOBHPo2eN",
        "colab_type": "code",
        "cellView": "form",
        "colab": {}
      },
      "source": [
        "#@title Show reconstruction images. First half is original, second half is reconstruction\n",
        "from IPython.display import Image, display\n",
        "from pathlib import Path\n",
        "\n",
        "print('Reconstructions\\n-------------------------------\\n')\n",
        "for epoch in range(100):\n",
        "    path = f'/content/VAE/results/reconstruction/reconstruction_epoch_{epoch}.png'\n",
        "    my_file = Path(path)\n",
        "    if my_file.is_file():\n",
        "        print(f'Epoch: {epoch}')\n",
        "        display(Image(path))\n",
        "        print('\\n')"
      ],
      "execution_count": 0,
      "outputs": []
    },
    {
      "cell_type": "code",
      "metadata": {
        "id": "UR8IFip7rzJA",
        "colab_type": "code",
        "cellView": "form",
        "colab": {}
      },
      "source": [
        "#@title Show sample images.\n",
        "from IPython.display import Image, display\n",
        "from pathlib import Path\n",
        "\n",
        "print('Samples\\n-------------------------------\\n')\n",
        "for epoch in range(100):\n",
        "    path = f'/content/VAE/results/sample/sample_epoch_{epoch}.png'\n",
        "    my_file = Path(path)\n",
        "    if my_file.is_file():\n",
        "        print(f'Epoch: {epoch}')\n",
        "        display(Image(path))\n",
        "        print('\\n')"
      ],
      "execution_count": 0,
      "outputs": []
    },
    {
      "cell_type": "code",
      "metadata": {
        "id": "J7EJn2Z0tYHL",
        "colab_type": "code",
        "cellView": "form",
        "colab": {}
      },
      "source": [
        "#@title Plot losses for given epoch\n",
        "import numpy as np\n",
        "import matplotlib.pyplot as plt\n",
        "%matplotlib inline\n",
        "\n",
        "epoch = int(input('Epoch: '))\n",
        "train_losses = np.load(f'/content/VAE/results/losses/train_loss_epoch_{epoch}.npy')\n",
        "valid_losses = np.load(f'/content/VAE/results/losses/validation_loss_epoch_{epoch}.npy')\n",
        "test_losses  = np.load(f'/content/VAE/results/losses/test_loss_epoch_{epoch}.npy')\n",
        "\n",
        "avg_losses = [np.mean(train_losses),np.mean(valid_losses),np.mean(test_losses)]\n",
        "\n",
        "plt.figure(figsize=(10,5))\n",
        "plt.plot(train_losses, 'r--', label=f'train - mean: {avg_losses[0]}')\n",
        "plt.plot(valid_losses, 'g-', label=f'validation - mean: {avg_losses[1]}')\n",
        "plt.plot(test_losses,  'b-', label=f'test - mean: {avg_losses[2]}')\n",
        "plt.grid()\n",
        "plt.legend()\n",
        "plt.title(f'Losses over time for epoch {epoch}')\n",
        "plt.show()"
      ],
      "execution_count": 0,
      "outputs": []
    },
    {
      "cell_type": "code",
      "metadata": {
        "id": "U_FwEabcX1ws",
        "colab_type": "code",
        "cellView": "form",
        "colab": {}
      },
      "source": [
        "#@title Download results and model states\n",
        "from google.colab import files\n",
        "!zip -r /content/model_states.zip /content/VAE/model_states\n",
        "!zip -r /content/results.zip /content/VAE/results\n",
        "files.download(\"/content/model_states.zip\")\n",
        "files.download(\"/content/results.zip\")"
      ],
      "execution_count": 0,
      "outputs": []
    }
  ]
}