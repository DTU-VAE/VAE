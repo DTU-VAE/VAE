{
  "nbformat": 4,
  "nbformat_minor": 0,
  "metadata": {
    "colab": {
      "name": "vae_train.ipynb",
      "provenance": [],
      "collapsed_sections": []
    },
    "kernelspec": {
      "name": "python3",
      "display_name": "Python 3"
    },
    "accelerator": "GPU"
  },
  "cells": [
    {
      "cell_type": "code",
      "metadata": {
        "id": "Y2cnu9QB-uat",
        "colab_type": "code",
        "colab": {}
      },
      "source": [
        "# download repo and data\n",
        "!git clone https://github.com/DTU-VAE/VAE.git\n",
        "%cd /content/VAE\n",
        "# !git checkout sampling\n",
        "import os\n",
        "os.environ['PYTHONPATH'] += \":/content/VAE\"\n",
        "\n",
        "%cd /content\n",
        "import requests\n",
        "url = \"https://storage.googleapis.com/magentadata/datasets/maestro/v2.0.0/maestro-v2.0.0-midi.zip\"\n",
        "zip_file = requests.get(url)\n",
        "with open(\"midi.zip\", \"wb\") as zfile:\n",
        "  zfile.write(zip_file.content)\n",
        "\n",
        "import zipfile\n",
        "with zipfile.ZipFile(\"midi.zip\", 'r') as zip_ref:\n",
        "    zip_ref.extractall(\"/content/VAE/data/\")\n",
        "\n",
        "%cd /content/VAE/midi"
      ],
      "execution_count": 0,
      "outputs": []
    },
    {
      "cell_type": "code",
      "metadata": {
        "id": "tKQ85kiGbJ6K",
        "colab_type": "code",
        "colab": {}
      },
      "source": [
        "!python3 midi.py -h"
      ],
      "execution_count": 0,
      "outputs": []
    },
    {
      "cell_type": "code",
      "metadata": {
        "id": "fDfkqV4B_cUo",
        "colab_type": "code",
        "colab": {}
      },
      "source": [
        "# start training with bootstrapping\n",
        "!python3 midi.py --bootstrap ../model_states/model_epoch_1.tar"
      ],
      "execution_count": 0,
      "outputs": []
    },
    {
      "cell_type": "code",
      "metadata": {
        "id": "4HhBAhalU9wq",
        "colab_type": "code",
        "colab": {}
      },
      "source": [
        "# start training without bootstrapping\n",
        "!python3 midi.py"
      ],
      "execution_count": 0,
      "outputs": []
    }
  ]
}