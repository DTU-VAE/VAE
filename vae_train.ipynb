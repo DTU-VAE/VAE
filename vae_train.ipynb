{
  "nbformat": 4,
  "nbformat_minor": 0,
  "metadata": {
    "colab": {
      "name": "vae_train.ipynb",
      "provenance": [],
      "collapsed_sections": []
    },
    "kernelspec": {
      "name": "python3",
      "display_name": "Python 3"
    },
    "accelerator": "GPU"
  },
  "cells": [
    {
      "cell_type": "code",
      "metadata": {
        "id": "Y2cnu9QB-uat",
        "colab_type": "code",
        "cellView": "form",
        "colab": {}
      },
      "source": [
        "#@title Download repository and dataset\n",
        "# download repo and data\n",
        "!git clone https://github.com/DTU-VAE/VAE.git\n",
        "%cd /content/VAE\n",
        "# !git checkout sampling\n",
        "import os\n",
        "os.environ['PYTHONPATH'] += \":/content/VAE\"\n",
        "\n",
        "%cd /content\n",
        "import requests\n",
        "url = \"https://storage.googleapis.com/magentadata/datasets/maestro/v2.0.0/maestro-v2.0.0-midi.zip\"\n",
        "zip_file = requests.get(url)\n",
        "with open(\"midi.zip\", \"wb\") as zfile:\n",
        "  zfile.write(zip_file.content)\n",
        "\n",
        "import zipfile\n",
        "with zipfile.ZipFile(\"midi.zip\", 'r') as zip_ref:\n",
        "    zip_ref.extractall(\"/content/VAE/data/\")\n",
        "\n",
        "%cd /content/VAE/midi\n",
        "\n",
        "print('\\n\\nScript usage\\n------------------------------------')\n",
        "!python3 midi.py -h"
      ],
      "execution_count": 0,
      "outputs": []
    },
    {
      "cell_type": "code",
      "metadata": {
        "id": "fDfkqV4B_cUo",
        "colab_type": "code",
        "colab": {}
      },
      "source": [
        "# start training with bootstrapping\n",
        "!python3 midi.py --bootstrap ../model_states/model_epoch_1.tar --log-interval 10000 --epochs 3 --sequence-length 16"
      ],
      "execution_count": 0,
      "outputs": []
    },
    {
      "cell_type": "code",
      "metadata": {
        "id": "4HhBAhalU9wq",
        "colab_type": "code",
        "colab": {}
      },
      "source": [
        "# start training without bootstrapping\n",
        "!python3 midi.py --sequence-length 16"
      ],
      "execution_count": 0,
      "outputs": []
    },
    {
      "cell_type": "code",
      "metadata": {
        "id": "U_FwEabcX1ws",
        "colab_type": "code",
        "cellView": "form",
        "colab": {}
      },
      "source": [
        "#@title Download results and model states\n",
        "from google.colab import files\n",
        "!zip -r /content/model_states.zip /content/VAE/model_states\n",
        "!zip -r /content/results.zip /content/VAE/results\n",
        "files.download(\"/content/model_states.zip\")\n",
        "files.download(\"/content/results.zip\")"
      ],
      "execution_count": 0,
      "outputs": []
    }
  ]
}