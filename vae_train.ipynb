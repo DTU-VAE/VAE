{
  "nbformat": 4,
  "nbformat_minor": 0,
  "metadata": {
    "colab": {
      "name": "vae_train.ipynb",
      "provenance": [],
      "collapsed_sections": []
    },
    "kernelspec": {
      "name": "python3",
      "display_name": "Python 3"
    },
    "accelerator": "GPU"
  },
  "cells": [
    {
      "cell_type": "code",
      "metadata": {
        "id": "Y2cnu9QB-uat",
        "colab_type": "code",
        "cellView": "form",
        "colab": {}
      },
      "source": [
        "#@title Download repository and dataset\n",
        "# download repo and data\n",
        "!git clone https://github.com/DTU-VAE/VAE.git\n",
        "%cd /content/VAE\n",
        "# !git checkout ****\n",
        "import os\n",
        "os.environ['PYTHONPATH'] += \":/content/VAE\"\n",
        "\n",
        "%cd /content\n",
        "import requests\n",
        "url = \"https://storage.googleapis.com/magentadata/datasets/maestro/v2.0.0/maestro-v2.0.0-midi.zip\"\n",
        "zip_file = requests.get(url)\n",
        "with open(\"midi.zip\", \"wb\") as zfile:\n",
        "  zfile.write(zip_file.content)\n",
        "\n",
        "import zipfile\n",
        "with zipfile.ZipFile(\"midi.zip\", 'r') as zip_ref:\n",
        "    zip_ref.extractall(\"/content/VAE/data/\")\n",
        "\n",
        "%cd /content/VAE/midi\n",
        "\n",
        "print('\\n\\nScript usage\\n------------------------------------')\n",
        "!python3 midi.py -h"
      ],
      "execution_count": 0,
      "outputs": []
    },
    {
      "cell_type": "code",
      "metadata": {
        "id": "4HhBAhalU9wq",
        "colab_type": "code",
        "colab": {}
      },
      "source": [
        "# start training without bootstrapping with default settings\n",
        "!python3 midi.py"
      ],
      "execution_count": 0,
      "outputs": []
    },
    {
      "cell_type": "code",
      "metadata": {
        "id": "fDfkqV4B_cUo",
        "colab_type": "code",
        "colab": {}
      },
      "source": [
        "# start training with bootstrapping\n",
        "!python3 midi.py --bootstrap ../model_states/model_epoch_1.tar --epochs 5 --log-interval 1000"
      ],
      "execution_count": 0,
      "outputs": []
    },
    {
      "cell_type": "code",
      "metadata": {
        "id": "i8ZqOBHPo2eN",
        "colab_type": "code",
        "colab": {},
        "cellView": "form"
      },
      "source": [
        "#@title Show reconstruction images. First half is original, second half is reconstruction\n",
        "from IPython.display import Image, display\n",
        "from pathlib import Path\n",
        "\n",
        "print('Reconstructions\\n-------------------------------\\n')\n",
        "for epoch in range(100):\n",
        "    path = f'/content/VAE/results/reconstruction/reconstruction_epoch_{epoch}.png'\n",
        "    my_file = Path(path)\n",
        "    if my_file.is_file():\n",
        "        print(f'Epoch: {epoch}')\n",
        "        display(Image(path))\n",
        "        print('\\n')"
      ],
      "execution_count": 0,
      "outputs": []
    },
    {
      "cell_type": "code",
      "metadata": {
        "id": "UR8IFip7rzJA",
        "colab_type": "code",
        "colab": {},
        "cellView": "form"
      },
      "source": [
        "#@title Show sample images.\n",
        "from IPython.display import Image, display\n",
        "from pathlib import Path\n",
        "\n",
        "print('Samples\\n-------------------------------\\n')\n",
        "for epoch in range(100):\n",
        "    path = f'/content/VAE/results/sample/sample_epoch_{epoch}.png'\n",
        "    my_file = Path(path)\n",
        "    if my_file.is_file():\n",
        "        print(f'Epoch: {epoch}')\n",
        "        display(Image(path))\n",
        "        print('\\n')"
      ],
      "execution_count": 0,
      "outputs": []
    },
    {
      "cell_type": "code",
      "metadata": {
        "id": "Io13fc6qtFLE",
        "colab_type": "code",
        "colab": {}
      },
      "source": [
        "import numpy as np\n",
        "import matplotlib.pylab as plt\n",
        "from matplotlib import colors as c\n",
        "import matplotlib.patches as mpatches\n",
        "from scipy import signal\n",
        "\n",
        "def plot_reconstruction(original, reconstruction, filename=\"recon_diff\", conv_size=3, repeats=3):\n",
        "\tassert isinstance(original, np.ndarray), \"'original' argument is not of type 'numpy.ndarray'\"\n",
        "\tassert isinstance(reconstruction, np.ndarray), \"'reconstruction' argument is not of type 'numpy.ndarray'\"\n",
        "\tassert original.shape == reconstruction.shape, \"Input arrays have unidentical shape\"\n",
        "\tassert conv_size >= 3, \"'conv_size' must be greater or equal to 3\"\n",
        "\tassert conv_size % 2 == 1, \"'conv_size' must be odd number\"\n",
        "\n",
        "\tdef save_input(src, extension):\n",
        "\t\tsrc_plot = src.copy()\n",
        "\t\tsrc_plot = src_plot.astype('bool')\n",
        "\t\tsrc_plot = np.repeat(src_plot, repeats, axis=1)\n",
        "\t\tplt.figure(figsize=(10,5))\n",
        "\t\tplt.axis(\"off\")\n",
        "\t\tplt.imshow(src_plot, cmap='binary')\n",
        "\t\tplt.savefig(filename+\"_\"+extension, dpi=300)\n",
        "\n",
        "\n",
        "\tsave_input(original, \"original\")\n",
        "\tsave_input(reconstruction, \"reconstruction\")\n",
        "\n",
        "\t# Mask function\n",
        "\tdef mask_op_source(src, mask, op):\n",
        "\t\tassert op in [\"eq\", \"out\"], \"Undefined mask operation\"\n",
        "\n",
        "\t\tsrc = src.astype('bool')\n",
        "\t\tmask = mask.astype('bool')\n",
        "\n",
        "\t\tif op == \"eq\":\n",
        "\t\t\treturn np.logical_and(src, mask)\n",
        "\t\tif op == \"out\":\n",
        "\t\t\treturn np.logical_and(mask, ~src)\n",
        "\n",
        "\t# Create image\n",
        "\toriginal = original.astype('uint8')\n",
        "\treconstruction = reconstruction.astype('uint8')\n",
        "\tm_in = mask_op_source(original, reconstruction, \"eq\")\n",
        "\tm_out = mask_op_source(original, reconstruction, \"out\")\n",
        "\t\n",
        "\t# Convolutional operations\n",
        "\tconv_mask = np.ones((conv_size,conv_size), dtype=\"int8\")\n",
        "\tconv_original = signal.convolve2d(original, conv_mask, mode=\"same\", boundary=\"fill\").astype(\"float\")\n",
        "\toriginal = original.astype('float')\n",
        "\toriginal[original == 0] = np.NaN\n",
        "\toriginal[original == 1] = 0\n",
        "\tnp.putmask(original, m_in, 1)\n",
        "\tconv_max = np.max(conv_original)\n",
        "\tconv_max = 1 if conv_max == 0 else conv_max\n",
        "\tconv_original -= conv_max\n",
        "\tconv_original /= conv_max\n",
        "\tconv_original[conv_original==0] = 1\n",
        "\toriginal[m_out] = conv_original[m_out]\n",
        "\n",
        "\t# Tile\n",
        "\toriginal = np.repeat(original, repeats, axis=1)\n",
        "\n",
        "\t# For print\n",
        "\tplt.figure(figsize=(10,5))\n",
        "\tcMap = c.ListedColormap(['#FF0000','#FF2A00', '#FF5500', '#FF8000', '#FFAA00', '#FFD500',\n",
        "\t\t'black','chartreuse','chartreuse','chartreuse','chartreuse','chartreuse','chartreuse'])\n",
        "\tpatches = [ mpatches.Patch(color=\"black\", label=\"Original signal\"), mpatches.Patch(color=\"chartreuse\", label=\"Exact reconstruction\"), mpatches.Patch(color=\"#FF0000\", label=\"Inexact reconstruction\")]\n",
        "\n",
        "\tplt.axis(\"off\")\n",
        "\tplt.legend(handles=patches, bbox_to_anchor=(.733, 1), loc=2, borderaxespad=0. )\t\n",
        "\tplt.imshow(original, cmap=cMap, vmin=-1, vmax=1)\n",
        "\n",
        "\tplt.savefig(filename+\"_print\", dpi=300)\n"
      ],
      "execution_count": 0,
      "outputs": []
    },
    {
      "cell_type": "code",
      "metadata": {
        "id": "KPVyrx_qtOn_",
        "colab_type": "code",
        "colab": {}
      },
      "source": [
        "plot_reconstruction()"
      ],
      "execution_count": 0,
      "outputs": []
    },
    {
      "cell_type": "code",
      "metadata": {
        "id": "J7EJn2Z0tYHL",
        "colab_type": "code",
        "colab": {},
        "cellView": "form"
      },
      "source": [
        "#@title Plot loss for given epoch\n",
        "import numpy as np\n",
        "import matplotlib.pyplot as plt\n",
        "%matplotlib inline\n",
        "\n",
        "epoch = int(input('Epoch: '))\n",
        "train_losses = np.load(f'/content/VAE/results/losses/train_loss_epoch_{epoch}.npy')\n",
        "valid_losses = np.load(f'/content/VAE/results/losses/validation_loss_epoch_{epoch}.npy')\n",
        "test_losses  = np.load(f'/content/VAE/results/losses/test_loss_epoch_{epoch}.npy')\n",
        "\n",
        "avg_losses = [np.mean(train_losses),np.mean(valid_losses),np.mean(test_losses)]\n",
        "\n",
        "plt.figure(figsize=(10,5))\n",
        "plt.plot(train_losses, 'r--', label=f'train - mean: {avg_losses[0]}')\n",
        "plt.plot(valid_losses, 'g-', label=f'validation - mean: {avg_losses[1]}')\n",
        "plt.plot(test_losses,  'b-', label=f'test - mean: {avg_losses[2]}')\n",
        "plt.grid()\n",
        "plt.legend()\n",
        "plt.title(f'Losses over time for epoch {epoch}')\n",
        "plt.show()"
      ],
      "execution_count": 0,
      "outputs": []
    },
    {
      "cell_type": "code",
      "metadata": {
        "id": "U_FwEabcX1ws",
        "colab_type": "code",
        "cellView": "form",
        "colab": {}
      },
      "source": [
        "#@title Download results and model states\n",
        "from google.colab import files\n",
        "!zip -r /content/model_states.zip /content/VAE/model_states\n",
        "!zip -r /content/results.zip /content/VAE/results\n",
        "files.download(\"/content/model_states.zip\")\n",
        "files.download(\"/content/results.zip\")"
      ],
      "execution_count": 0,
      "outputs": []
    }
  ]
}